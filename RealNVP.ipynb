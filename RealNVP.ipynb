{
 "cells": [
  {
   "cell_type": "markdown",
   "metadata": {},
   "source": [
    "## Import packages."
   ]
  },
  {
   "cell_type": "code",
   "execution_count": 1,
   "metadata": {},
   "outputs": [],
   "source": [
    "%matplotlib inline\n",
    "\n",
    "# import packages\n",
    "import numpy as np\n",
    "import time\n",
    "import pandas as pd\n",
    "\n",
    "import matplotlib\n",
    "import matplotlib.pyplot as plt\n",
    "import matplotlib.colors as colors\n",
    "import matplotlib.cm as cm\n",
    "from matplotlib import gridspec\n",
    "\n",
    "import torch\n",
    "from torch import nn\n",
    "from torch import distributions\n",
    "from torch.nn.parameter import Parameter\n",
    "\n",
    "from sklearn import cluster, datasets, mixture\n",
    "from sklearn.preprocessing import StandardScaler"
   ]
  },
  {
   "cell_type": "code",
   "execution_count": 2,
   "metadata": {},
   "outputs": [],
   "source": [
    "# define plot properties\n",
    "from cycler import cycler\n",
    "import matplotlib.cm as cm\n",
    "\n",
    "from matplotlib import rcParams\n",
    "from matplotlib import rc\n",
    "from mpl_toolkits.axes_grid1 import make_axes_locatable\n",
    "\n",
    "def rgb(r,g,b):\n",
    "    return (float(r)/256.,float(g)/256.,float(b)/256.)\n",
    "\n",
    "cb2 = [rgb(31,120,180), rgb(255,127,0), rgb(51,160,44), rgb(227,26,28), \\\n",
    "       rgb(166,206,227), rgb(253,191,111), rgb(178,223,138), rgb(251,154,153)]\n",
    "\n",
    "rcParams['figure.figsize'] = (9,7.5)\n",
    "#rcParams['figure.dpi'] = 300\n",
    "\n",
    "rcParams['lines.linewidth'] = 1\n",
    "\n",
    "rcParams['axes.prop_cycle'] = cycler('color', cb2)\n",
    "rcParams['axes.facecolor'] = 'white'\n",
    "rcParams['axes.grid'] = False\n",
    "\n",
    "rcParams['patch.facecolor'] = cb2[0]\n",
    "rcParams['patch.edgecolor'] = 'white'\n",
    "\n",
    "#rcParams['font.family'] = 'Bitstream Vera Sans' \n",
    "rcParams['font.size'] = 23\n",
    "rcParams['font.weight'] = 300\n"
   ]
  },
  {
   "cell_type": "markdown",
   "metadata": {},
   "source": [
    "## APOGEE labels.\n",
    "\n",
    "> Restore all the labels."
   ]
  },
  {
   "cell_type": "code",
   "execution_count": 10,
   "metadata": {},
   "outputs": [],
   "source": [
    "# restore data\n",
    "from astropy.io import fits\n",
    "hdulist = fits.open('Catalog_Apogee_Payne.fits.gz')\n",
    "Teff = hdulist[1].data[\"Teff\"]\n",
    "Logg = hdulist[1].data[\"Logg\"]\n",
    "FeH = hdulist[1].data[\"FeH\"]\n"
   ]
  },
  {
   "cell_type": "code",
   "execution_count": 15,
   "metadata": {},
   "outputs": [
    {
     "data": {
      "image/png": "[encoded data removed]",
      "text/plain": [
       "<Figure size 648x540 with 1 Axes>"
      ]
     },
     "metadata": {
      "needs_background": "light"
     },
     "output_type": "display_data"
    }
   ],
   "source": [
    "# plot histogram\n",
    "plt.hist(FeH, bins=100);"
   ]
  },
  {
   "cell_type": "markdown",
   "metadata": {},
   "source": [
    "> Plot results."
   ]
  },
  {
   "cell_type": "code",
   "execution_count": null,
   "metadata": {},
   "outputs": [],
   "source": [
    "# setup figure\n",
    "plt.figure(figsize=[15,22]);\n",
    "\n",
    "# the latent space\n",
    "temp = np.load(\"real_nvp_results.npz\")\n",
    "z = temp[\"z1\"]\n",
    "print(z.shape)\n",
    "plt.subplot(321)\n",
    "plt.xlim([-4,4])\n",
    "plt.ylim([-4,4])\n",
    "plt.scatter(z[:, 0], z[:, 1], s=0.1)\n",
    "plt.title(r'$z = f(X)$')\n",
    "\n",
    "z = temp[\"z2\"]\n",
    "print(z.shape)\n",
    "plt.subplot(322)\n",
    "plt.xlim([-4,4])\n",
    "plt.ylim([-4,4])\n",
    "plt.scatter(z[:, 0], z[:, 1], s=0.1)\n",
    "plt.title(r'$z \\sim p(z)$')\n",
    "\n",
    "#-----------------------------------------------------------------------------------------\n",
    "# the 2D feature space\n",
    "x = temp[\"x1\"]\n",
    "print(x.shape)\n",
    "plt.subplot(323)\n",
    "plt.xlim([0,20])\n",
    "plt.ylim([0,20])\n",
    "plt.scatter(x[:, 0], x[:, 1], c='r', s=0.1)\n",
    "plt.title(r'$X \\sim p(X)$ [2D]')\n",
    "\n",
    "x = temp[\"x2\"]\n",
    "print(x.shape)\n",
    "plt.subplot(324)\n",
    "plt.xlim([0,20])\n",
    "plt.ylim([0,20])\n",
    "plt.scatter(x[:, 0, 0], x[:, 0, 1], c='r', s=0.1)\n",
    "plt.title(r'$X = g(z)$ [2D]')\n",
    "\n",
    "#-----------------------------------------------------------------------------------------\n",
    "# 1D feature histogram\n",
    "plt.subplot(325)\n",
    "\n",
    "x = temp[\"x1\"]\n",
    "plt.hist(x[:, 0], bins=100, range=[0,20])\n",
    "\n",
    "x = temp[\"x2\"]\n",
    "plt.hist(x[:, :, 0], alpha=0.5, bins=100, range=[0,20])\n",
    "\n",
    "plt.title(r'$X \\sim p(X)$ [1D]')\n"
   ]
  },
  {
   "cell_type": "code",
   "execution_count": null,
   "metadata": {},
   "outputs": [],
   "source": []
  }
 ],
 "metadata": {
  "kernelspec": {
   "display_name": "Python 3",
   "language": "python",
   "name": "python3"
  },
  "language_info": {
   "codemirror_mode": {
    "name": "ipython",
    "version": 3
   },
   "file_extension": ".py",
   "mimetype": "text/x-python",
   "name": "python",
   "nbconvert_exporter": "python",
   "pygments_lexer": "ipython3",
   "version": "3.7.3"
  }
 },
 "nbformat": 4,
 "nbformat_minor": 2
}
